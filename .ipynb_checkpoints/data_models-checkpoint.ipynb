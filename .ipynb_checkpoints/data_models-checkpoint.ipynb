{
 "cells": [
  {
   "cell_type": "code",
   "execution_count": 55,
   "id": "3a451232",
   "metadata": {},
   "outputs": [
    {
     "data": {
      "text/html": [
       "<div>\n",
       "<style scoped>\n",
       "    .dataframe tbody tr th:only-of-type {\n",
       "        vertical-align: middle;\n",
       "    }\n",
       "\n",
       "    .dataframe tbody tr th {\n",
       "        vertical-align: top;\n",
       "    }\n",
       "\n",
       "    .dataframe thead th {\n",
       "        text-align: right;\n",
       "    }\n",
       "</style>\n",
       "<table border=\"1\" class=\"dataframe\">\n",
       "  <thead>\n",
       "    <tr style=\"text-align: right;\">\n",
       "      <th></th>\n",
       "      <th>Date</th>\n",
       "      <th>PPT</th>\n",
       "      <th>Tmin</th>\n",
       "      <th>Tav</th>\n",
       "      <th>Tmax</th>\n",
       "      <th>Flow_cfs</th>\n",
       "      <th>Flow?</th>\n",
       "      <th>prevflow</th>\n",
       "    </tr>\n",
       "  </thead>\n",
       "  <tbody>\n",
       "    <tr>\n",
       "      <th>0</th>\n",
       "      <td>1988-03</td>\n",
       "      <td>16.09</td>\n",
       "      <td>2.8</td>\n",
       "      <td>12.3</td>\n",
       "      <td>21.8</td>\n",
       "      <td>2.68</td>\n",
       "      <td>1</td>\n",
       "      <td>0.00</td>\n",
       "    </tr>\n",
       "    <tr>\n",
       "      <th>1</th>\n",
       "      <td>1988-04</td>\n",
       "      <td>17.63</td>\n",
       "      <td>7.9</td>\n",
       "      <td>17.0</td>\n",
       "      <td>26.1</td>\n",
       "      <td>2.33</td>\n",
       "      <td>1</td>\n",
       "      <td>2.68</td>\n",
       "    </tr>\n",
       "    <tr>\n",
       "      <th>2</th>\n",
       "      <td>1988-05</td>\n",
       "      <td>63.44</td>\n",
       "      <td>14.1</td>\n",
       "      <td>21.4</td>\n",
       "      <td>28.7</td>\n",
       "      <td>4.56</td>\n",
       "      <td>1</td>\n",
       "      <td>2.33</td>\n",
       "    </tr>\n",
       "    <tr>\n",
       "      <th>3</th>\n",
       "      <td>1988-06</td>\n",
       "      <td>58.01</td>\n",
       "      <td>18.6</td>\n",
       "      <td>25.8</td>\n",
       "      <td>33.0</td>\n",
       "      <td>18.20</td>\n",
       "      <td>1</td>\n",
       "      <td>4.56</td>\n",
       "    </tr>\n",
       "    <tr>\n",
       "      <th>4</th>\n",
       "      <td>1988-07</td>\n",
       "      <td>91.98</td>\n",
       "      <td>20.5</td>\n",
       "      <td>26.6</td>\n",
       "      <td>32.7</td>\n",
       "      <td>76.10</td>\n",
       "      <td>1</td>\n",
       "      <td>18.20</td>\n",
       "    </tr>\n",
       "    <tr>\n",
       "      <th>5</th>\n",
       "      <td>1988-08</td>\n",
       "      <td>8.09</td>\n",
       "      <td>20.5</td>\n",
       "      <td>27.4</td>\n",
       "      <td>34.3</td>\n",
       "      <td>0.28</td>\n",
       "      <td>1</td>\n",
       "      <td>76.10</td>\n",
       "    </tr>\n",
       "    <tr>\n",
       "      <th>6</th>\n",
       "      <td>1988-09</td>\n",
       "      <td>111.88</td>\n",
       "      <td>16.4</td>\n",
       "      <td>23.3</td>\n",
       "      <td>30.2</td>\n",
       "      <td>28.30</td>\n",
       "      <td>1</td>\n",
       "      <td>0.28</td>\n",
       "    </tr>\n",
       "    <tr>\n",
       "      <th>7</th>\n",
       "      <td>1988-10</td>\n",
       "      <td>0.00</td>\n",
       "      <td>10.2</td>\n",
       "      <td>17.9</td>\n",
       "      <td>25.7</td>\n",
       "      <td>0.40</td>\n",
       "      <td>1</td>\n",
       "      <td>28.30</td>\n",
       "    </tr>\n",
       "    <tr>\n",
       "      <th>8</th>\n",
       "      <td>1988-11</td>\n",
       "      <td>0.00</td>\n",
       "      <td>4.8</td>\n",
       "      <td>13.4</td>\n",
       "      <td>22.1</td>\n",
       "      <td>0.02</td>\n",
       "      <td>1</td>\n",
       "      <td>0.40</td>\n",
       "    </tr>\n",
       "    <tr>\n",
       "      <th>9</th>\n",
       "      <td>1988-12</td>\n",
       "      <td>15.88</td>\n",
       "      <td>-1.2</td>\n",
       "      <td>6.8</td>\n",
       "      <td>14.8</td>\n",
       "      <td>1.23</td>\n",
       "      <td>1</td>\n",
       "      <td>0.02</td>\n",
       "    </tr>\n",
       "  </tbody>\n",
       "</table>\n",
       "</div>"
      ],
      "text/plain": [
       "      Date     PPT  Tmin   Tav  Tmax  Flow_cfs  Flow?  prevflow\n",
       "0  1988-03   16.09   2.8  12.3  21.8      2.68      1      0.00\n",
       "1  1988-04   17.63   7.9  17.0  26.1      2.33      1      2.68\n",
       "2  1988-05   63.44  14.1  21.4  28.7      4.56      1      2.33\n",
       "3  1988-06   58.01  18.6  25.8  33.0     18.20      1      4.56\n",
       "4  1988-07   91.98  20.5  26.6  32.7     76.10      1     18.20\n",
       "5  1988-08    8.09  20.5  27.4  34.3      0.28      1     76.10\n",
       "6  1988-09  111.88  16.4  23.3  30.2     28.30      1      0.28\n",
       "7  1988-10    0.00  10.2  17.9  25.7      0.40      1     28.30\n",
       "8  1988-11    0.00   4.8  13.4  22.1      0.02      1      0.40\n",
       "9  1988-12   15.88  -1.2   6.8  14.8      1.23      1      0.02"
      ]
     },
     "execution_count": 55,
     "metadata": {},
     "output_type": "execute_result"
    }
   ],
   "source": [
    "# Import necessary libraries\n",
    "import numpy as np\n",
    "import pandas as pd\n",
    "import statistics \n",
    "import math\n",
    "from matplotlib import pyplot as plt\n",
    "import statsmodels.formula.api as smf\n",
    "%matplotlib inline\n",
    "import warnings\n",
    "warnings.filterwarnings('ignore')\n",
    "\n",
    "# Read .csv file as a dataframe\n",
    "df = pd.read_csv('ColoradoRiverData.csv')\n",
    "df.drop('delt', inplace=True, axis=1)\n",
    "df.drop('SMI', inplace=True, axis=1)\n",
    "df.drop('ET', inplace=True, axis=1)\n",
    "df['prevflow'] = df['Flow_cfs'].shift()\n",
    "df.at[0, 'prevflow'] = 0\n",
    "df.head(10)"
   ]
  },
  {
   "cell_type": "markdown",
   "id": "d6fdd363",
   "metadata": {},
   "source": [
    "### **Model Building: Part 1 | Forecasting flowrates**\n",
    "In this part, the goal is to make models to predict flowrates in the Colorado River, and then evaluate their performance using appropriate goodness-of-fit measures, and analyze the outcomes. Use the first 75% of the dataset for training your models and the remaining 25% for testing. \n",
    "\n",
    "- Build 3 data models that you see appropriate for this task. (*Please note that these models should be unique and this uniqueness can be defined based on using different algorithms, inputs, or both.*)\n",
    "- Assess data model quality (decide which model is best) \n",
    "- Build the input data interface for using the \"best\" model\n",
    "- Using your best model determine the estimated flowrate for the hydro-meteorological conditions in the table below:\n",
    "\n",
    "|ppt|tmax|tmean|tmin|last month flowrate|\n",
    "|:---|:---|:---|:---|:---|\n",
    "|0.0|113.0|99.0|85.0|0.0|\n",
    "|4.5|95.0|85.0|75.0|74.5|\n",
    "|2.2|20.0|10.0|0.0|55.0|\n",
    "|1.0|80.0|60.0|40.0|36.3|     \n",
    "|0.0|80.0|60.0|40.0|12.0|\n",
    "*note that you may not all the values for each case, depending on your best model.*\n",
    "\n",
    "Your \"Model Building: Part 1\" section must include your answers for the following questions:\n",
    "- What are the most important assumptions in your modeling?\n",
    "- Is it benefitial to use the streamflow recorded in the previous step (a lagged streamflow value) as an input feature? why?\n",
    "- Which parameter (between precipitation and temperature values) was be a better predictor for streamflow at the station of study? why?\n",
    "- Is there a specific range of streamflow values that are harder to capture accurately for your data models? If yes, what range and why?"
   ]
  },
  {
   "cell_type": "code",
   "execution_count": 56,
   "id": "d80a24ef",
   "metadata": {},
   "outputs": [
    {
     "name": "stdout",
     "output_type": "stream",
     "text": [
      "                            OLS Regression Results                            \n",
      "==============================================================================\n",
      "Dep. Variable:               Flow_cfs   R-squared:                       0.378\n",
      "Model:                            OLS   Adj. R-squared:                  0.376\n",
      "Method:                 Least Squares   F-statistic:                     225.2\n",
      "Date:                Tue, 03 May 2022   Prob (F-statistic):           4.08e-40\n",
      "Time:                        23:07:27   Log-Likelihood:                -1912.2\n",
      "No. Observations:                 373   AIC:                             3828.\n",
      "Df Residuals:                     371   BIC:                             3836.\n",
      "Df Model:                           1                                         \n",
      "Covariance Type:            nonrobust                                         \n",
      "==============================================================================\n",
      "                 coef    std err          t      P>|t|      [0.025      0.975]\n",
      "------------------------------------------------------------------------------\n",
      "Intercept    -18.3337      2.980     -6.153      0.000     -24.193     -12.474\n",
      "PPT            0.7412      0.049     15.006      0.000       0.644       0.838\n",
      "==============================================================================\n",
      "Omnibus:                      566.188   Durbin-Watson:                   1.980\n",
      "Prob(Omnibus):                  0.000   Jarque-Bera (JB):           145057.838\n",
      "Skew:                           7.867   Prob(JB):                         0.00\n",
      "Kurtosis:                      98.320   Cond. No.                         85.0\n",
      "==============================================================================\n",
      "\n",
      "Notes:\n",
      "[1] Standard Errors assume that the covariance matrix of the errors is correctly specified.\n"
     ]
    },
    {
     "data": {
      "image/png": "[encoded data removed]",
      "text/plain": [
       "<Figure size 864x432 with 1 Axes>"
      ]
     },
     "metadata": {
      "needs_background": "light"
     },
     "output_type": "display_data"
    }
   ],
   "source": [
    "# statsmodels package - linear\n",
    "\n",
    "linmodel = smf.ols('Flow_cfs ~ PPT', data=df)\n",
    "linmodel = linmodel.fit()\n",
    "print(linmodel.summary())\n",
    "# dir(model) # activate to find attributes\n",
    "intercept = linmodel.params[0]\n",
    "slope = linmodel.params[1]\n",
    "Rsquare = linmodel.rsquared\n",
    "RMSE = math.sqrt(linmodel.mse_total)\n",
    "\n",
    "# Predict values\n",
    "ppt_pred = linmodel.predict()\n",
    "\n",
    "titleline = 'Precipitation effect on flow rate \\n'  + \\\n",
    "            'y = ' + str(round(intercept,2)) + '+' + str(round(slope,2)) + 'x' + \\\n",
    "            ' \\n R squared = ' + str(round(Rsquare,3)) + \\\n",
    "            ' \\n RMSE = ' + \\\n",
    "            str(round(RMSE,2))\n",
    "# Plot regression against actual data - What do we see?\n",
    "plt.figure(figsize=(12, 6))\n",
    "plt.plot(df['PPT'], df['Flow_cfs'], 'o')           # scatter plot showing actual data\n",
    "plt.plot(df['PPT'], ppt_pred,color ='r', linewidth=2)   # regression line\n",
    "plt.xlabel('Precipitation(in.)')\n",
    "plt.ylabel('Flowrate(cfs)')\n",
    "plt.legend(['Monthly Precipitation','Model Prediction'])\n",
    "plt.title(titleline)\n",
    "\n",
    "plt.minorticks_on()  \n",
    "plt.grid()\n",
    "plt.show()"
   ]
  },
  {
   "cell_type": "code",
   "execution_count": 57,
   "id": "792b9825",
   "metadata": {},
   "outputs": [
    {
     "name": "stdout",
     "output_type": "stream",
     "text": [
      "                            OLS Regression Results                            \n",
      "==============================================================================\n",
      "Dep. Variable:               Flow_cfs   R-squared:                       0.872\n",
      "Model:                            OLS   Adj. R-squared:                  0.871\n",
      "Method:                 Least Squares   F-statistic:                     834.7\n",
      "Date:                Tue, 03 May 2022   Prob (F-statistic):          5.12e-164\n",
      "Time:                        23:07:27   Log-Likelihood:                -1617.9\n",
      "No. Observations:                 373   AIC:                             3244.\n",
      "Df Residuals:                     369   BIC:                             3259.\n",
      "Df Model:                           3                                         \n",
      "Covariance Type:            nonrobust                                         \n",
      "==============================================================================\n",
      "                 coef    std err          t      P>|t|      [0.025      0.975]\n",
      "------------------------------------------------------------------------------\n",
      "Intercept     -5.8596      1.936     -3.026      0.003      -9.667      -2.052\n",
      "PPT            0.8368      0.108      7.749      0.000       0.624       1.049\n",
      "XX            -0.0147      0.001    -10.546      0.000      -0.017      -0.012\n",
      "XXX         8.409e-05   4.51e-06     18.643      0.000    7.52e-05     9.3e-05\n",
      "==============================================================================\n",
      "Omnibus:                      191.211   Durbin-Watson:                   1.910\n",
      "Prob(Omnibus):                  0.000   Jarque-Bera (JB):             4658.266\n",
      "Skew:                           1.606   Prob(JB):                         0.00\n",
      "Kurtosis:                      20.012   Cond. No.                     3.03e+06\n",
      "==============================================================================\n",
      "\n",
      "Notes:\n",
      "[1] Standard Errors assume that the covariance matrix of the errors is correctly specified.\n",
      "[2] The condition number is large, 3.03e+06. This might indicate that there are\n",
      "strong multicollinearity or other numerical problems.\n"
     ]
    },
    {
     "data": {
      "image/png": "[encoded data removed]",
      "text/plain": [
       "<Figure size 864x432 with 1 Axes>"
      ]
     },
     "metadata": {
      "needs_background": "light"
     },
     "output_type": "display_data"
    }
   ],
   "source": [
    "# statspackage model - cubic\n",
    "\n",
    "df['XX']=df['PPT']**2  # add a column of X^2\n",
    "df['XXX']=df['PPT']**3  # add a column of X^2\n",
    "\n",
    "# Initialise and fit linear regression model using `statsmodels`\n",
    "cubemodel = smf.ols('Flow_cfs ~ PPT+XX+XXX', data=df) # model object constructor syntax\n",
    "cubemodel = cubemodel.fit()\n",
    "\n",
    "# Predict values\n",
    "cubicppt_pred = cubemodel.predict()\n",
    "print(cubemodel.summary())\n",
    "\n",
    "intercept = cubemodel.params[0]\n",
    "slope1 = cubemodel.params[1]\n",
    "slope2 = cubemodel.params[2]\n",
    "slope3 = cubemodel.params[3]\n",
    "Rsquare = cubemodel.rsquared\n",
    "RMSE = math.sqrt(cubemodel.mse_total)\n",
    "\n",
    "# Plot\n",
    "titleline = 'Precipitation effect on flow rate \\n'  + \\\n",
    "            'y = ' + str(round(intercept,2)) + ' + ' + str(round(slope1,3)) + 'x ' + '+ '+ str(round(slope2,3)) + 'x^2' + ' + '+ str(round(slope3,4)) + 'x^3' + \\\n",
    "            ' \\n R squared = ' + str(round(Rsquare,3)) + \\\n",
    "            ' \\n RMSE = ' + \\\n",
    "            str(round(RMSE,2))\n",
    "\n",
    "plt.figure(figsize=(12, 6))\n",
    "plt.plot(df['PPT'], df['Flow_cfs'], 'o')           # scatter plot showing actual data\n",
    "plt.plot(df['PPT'], cubicppt_pred, marker='s', color='r', linewidth=0 )   # regression line\n",
    "plt.xlabel('Precipitation(in.)')\n",
    "plt.ylabel('Flowrate(cfs)')\n",
    "plt.legend(['Monthly Precipitation','Model Prediction'])\n",
    "plt.title(titleline)\n",
    "plt.show();\n"
   ]
  },
  {
   "cell_type": "code",
   "execution_count": 58,
   "id": "cb5f5b4e",
   "metadata": {},
   "outputs": [],
   "source": [
    "# sklearn - train_test_split\n",
    "\n",
    "feature_cols = ['PPT']\n",
    "#feature_cols = ['Tmin', 'Tav', 'Tmax']\n",
    "x = df[feature_cols] # Features\n",
    "y = df['Flow_cfs'] # Target variable\n",
    "\n",
    "# split x and y into training and testing sets\n",
    "from sklearn.model_selection import train_test_split\n",
    "x_train, x_test, y_train, y_test = train_test_split(x,y,test_size=0.25,random_state=0)\n",
    "\n",
    "# import the class\n",
    "from sklearn.linear_model import LinearRegression\n",
    "\n",
    "# instantiate the model (using the default parameters)\n",
    "linreg = LinearRegression()\n",
    "\n",
    "# fit the model with data\n",
    "linreg.fit(x_train,y_train)\n",
    "\n",
    "# run predictor on x_test\n",
    "y_pred=linreg.predict(x_test)"
   ]
  },
  {
   "cell_type": "code",
   "execution_count": 60,
   "id": "d62d1058",
   "metadata": {},
   "outputs": [
    {
     "name": "stdout",
     "output_type": "stream",
     "text": [
      "Enter requested precipitation to test: 11\n",
      "Expected flowrate is:  1.68  cfs\n"
     ]
    }
   ],
   "source": [
    "# use statspackage model cubic for testing\n",
    "\n",
    "df['XX']=df['PPT']**2  # add a column of X^2\n",
    "df['XXX']=df['PPT']**3  # add a column of X^2\n",
    "\n",
    "# Initialise and fit linear regression model using `statsmodels`\n",
    "cubemodel = smf.ols('Flow_cfs ~ PPT+XX+XXX', data=df) # model object constructor syntax\n",
    "cubemodel = cubemodel.fit()\n",
    "# Predict values\n",
    "cubicppt_pred = cubemodel.predict()\n",
    "\n",
    "intercept = cubemodel.params[0]\n",
    "slope1 = cubemodel.params[1]\n",
    "slope2 = cubemodel.params[2]\n",
    "slope3 = cubemodel.params[3]\n",
    "Rsquare = cubemodel.rsquared\n",
    "RMSE = math.sqrt(cubemodel.mse_total)\n",
    "\n",
    "# Apply equation from cubic model as function for interactive input\n",
    "def cubic(i, intercept, slope1, slope2, slope3):\n",
    "    ans = intercept + (slope1 * i) + (slope2 * math.pow(i, 2)) + (slope3 * math.pow(i,3))\n",
    "    if(ans<0):\n",
    "        ans = 0.0\n",
    "    return(ans)\n",
    "\n",
    "# Input data interface\n",
    "i = input(\"Enter requested precipitation to test: \")\n",
    "i = np.float64(i)\n",
    "flowrate = cubic(i, intercept, slope1, slope2, slope3)\n",
    "print(\"Expected flowrate is: \",\"{:.2f}\".format(flowrate), \" cfs\")"
   ]
  },
  {
   "cell_type": "markdown",
   "id": "b99fcb59",
   "metadata": {},
   "source": [
    "#### - What are the most important assumptions in your modeling?\n",
    "- The most important assumption are to neglect the extreme values in the dataset that lead to outliers because the goal of the model is to create a pattern from the trends seen in the data, and that by eliminating the outliers, the data is more consistent with a wider range of data.\n",
    "\n",
    "#### - Is it benefitial to use the streamflow recorded in the previous step (a lagged streamflow value) as an input feature? why?\n",
    "- No because based on the correlation values, using the lagged streamflow value had a very miniscule correlation to the flow_cfs, being the lowest out of all of the parameters.\n",
    "\n",
    "#### - Which parameter (between precipitation and temperature values) would be a better predictor for streamflow at the station of study? why?\n",
    "- Using the precipitation parameter was a better predictor for streamflow due to how the precipitation has a bigger r-squared value compared to temperature, due to the r-squared value of precipitation being 0.378 out of 1, which is better than the r-squared value of temperature being 0.015.\n",
    "\n",
    "#### - Is there a specific range of streamflow values that are harder to capture accurately for your data models? If yes, what range and why?\n",
    "- The range of precipitation values from 0.0 to 8.0 were the hardest to capture accurately for the data models, likely due to the majority of those streamflow cases having a flowrate of 0 and the outliers had flowrates."
   ]
  },
  {
   "cell_type": "markdown",
   "id": "42b9be4b",
   "metadata": {},
   "source": [
    "### **Model Building: Part 2 | Forecasting flow states**\n",
    "In this part, the goal is to make models to predict whether the Colorado River's flowstate is in the \"Flow\" or the \"No-Flow\" state. Then, evaluate their performance using appropriate goodness-of-fit measures, and analyze the outcomes. Use the first 75% of the dataset for training your models and the remaining 25% for testing. \n",
    "\n",
    "- Add a column to the dataframe for the flow state: It should be 0 when the flowrate is equal to 0 and 1 when the flowrate is non-zero. \n",
    "- Build 3 data models that you see appropriate for predicting the flow state. (*Please note that these models should be unique and this uniqueness can be defined based on using different algorithms, inputs, or both.*)\n",
    "- Assess data model quality (decide which model is best) \n",
    "- Build the input data interface for using the \"best\" model\n",
    "- Using your best model determine the estimated flow state for the hydro-meteorological conditions in the table below:\n",
    "|ppt|tmax|tmean|tmin|\n",
    "|:---|:---|:---|:---|\n",
    "|0.0|113.0|99.0|85.0|\n",
    "|4.5|95.0|85.0|75.0|\n",
    "|2.2|20.0|10.0|0.0|\n",
    "|1.0|80.0|60.0|40.0|     \n",
    "|0.0|80.0|60.0|40.0|\n",
    "*note that you may not all the values for each case, depending on your best model.*"
   ]
  },
  {
   "cell_type": "code",
   "execution_count": 61,
   "id": "a957df10",
   "metadata": {},
   "outputs": [
    {
     "name": "stdout",
     "output_type": "stream",
     "text": [
      "No flowrate %  32.17\n",
      "Fraud %     67.83\n"
     ]
    }
   ],
   "source": [
    "# check the actual ratio of values in the dataset\n",
    "print ('No flowrate % ',round(df['Flow?'].value_counts()[0]/len(df)*100,2))\n",
    "print ('Fraud %    ',round(df['Flow?'].value_counts()[1]/len(df)*100,2))"
   ]
  },
  {
   "cell_type": "code",
   "execution_count": 62,
   "id": "7c664a9e",
   "metadata": {},
   "outputs": [
    {
     "name": "stdout",
     "output_type": "stream",
     "text": [
      "                            OLS Regression Results                            \n",
      "==============================================================================\n",
      "Dep. Variable:             Q(\"Flow?\")   R-squared:                       0.221\n",
      "Model:                            OLS   Adj. R-squared:                  0.217\n",
      "Method:                 Least Squares   F-statistic:                     52.56\n",
      "Date:                Tue, 03 May 2022   Prob (F-statistic):           8.12e-21\n",
      "Time:                        23:07:33   Log-Likelihood:                -198.72\n",
      "No. Observations:                 373   AIC:                             403.4\n",
      "Df Residuals:                     370   BIC:                             415.2\n",
      "Df Model:                           2                                         \n",
      "Covariance Type:            nonrobust                                         \n",
      "==============================================================================\n",
      "                 coef    std err          t      P>|t|      [0.025      0.975]\n",
      "------------------------------------------------------------------------------\n",
      "Intercept      0.4416      0.032     13.935      0.000       0.379       0.504\n",
      "Flow_cfs      -0.0015      0.001     -2.832      0.005      -0.003      -0.000\n",
      "PPT            0.0060      0.001      9.513      0.000       0.005       0.007\n",
      "==============================================================================\n",
      "Omnibus:                     1040.888   Durbin-Watson:                   1.293\n",
      "Prob(Omnibus):                  0.000   Jarque-Bera (JB):               35.731\n",
      "Skew:                          -0.336   Prob(JB):                     1.74e-08\n",
      "Kurtosis:                       1.641   Cond. No.                         107.\n",
      "==============================================================================\n",
      "\n",
      "Notes:\n",
      "[1] Standard Errors assume that the covariance matrix of the errors is correctly specified.\n"
     ]
    },
    {
     "data": {
      "image/png": "[encoded data removed]",
      "text/plain": [
       "<Figure size 864x432 with 1 Axes>"
      ]
     },
     "metadata": {
      "needs_background": "light"
     },
     "output_type": "display_data"
    }
   ],
   "source": [
    "# statspackage model - multi linear regression\n",
    "\n",
    "# Initialise and fit linear regression model using `statsmodels`\n",
    "model = smf.ols('Q(\"Flow?\") ~ Flow_cfs + PPT', data=df) # model object constructor syntax\n",
    "model = model.fit()\n",
    "print(model.summary())\n",
    "\n",
    "# Predict values\n",
    "y_pred = model.predict()\n",
    "Rsquared = model.rsquared\n",
    "rmse = math.sqrt(model.mse_total)\n",
    "\n",
    "# Plot\n",
    "titleline = 'Precipitation effect on flow rate \\n'  + \\\n",
    "            ' \\n R squared = ' + str(round(Rsquared,3)) + \\\n",
    "            ' \\n RMSE = ' + \\\n",
    "            str(round(RMSE,2))\n",
    "\n",
    "plt.figure(figsize=(12, 6))\n",
    "plt.plot(df['PPT'], df['Flow?'], 'o')           # scatter plot showing actual data\n",
    "plt.plot(df['PPT'], y_pred, marker='s', color='r', linewidth=0 )   # regression line\n",
    "plt.xlabel('Precipitation(in.)')\n",
    "plt.ylabel('Flowrate(cfs)')\n",
    "plt.legend(['Monthly Precipitation','Model Prediction'])\n",
    "plt.title(titleline)\n",
    "plt.show();"
   ]
  },
  {
   "cell_type": "code",
   "execution_count": 63,
   "id": "b1196217",
   "metadata": {},
   "outputs": [
    {
     "name": "stdout",
     "output_type": "stream",
     "text": [
      "[[34  7]\n",
      " [ 0 53]]\n",
      "True Positive Cases are 34\n",
      "True Negative Cases are 0\n",
      "False Positive Cases are 7\n",
      "False Negative Cases are 53\n",
      "Accuracy: 0.925531914893617\n",
      "Precision: 1.0\n",
      "Recall: 0.8833333333333333\n",
      "F1-score: 0.9380530973451328\n",
      "              precision    recall  f1-score   support\n",
      "\n",
      "           0       0.83      1.00      0.91        34\n",
      "           1       1.00      0.88      0.94        60\n",
      "\n",
      "    accuracy                           0.93        94\n",
      "   macro avg       0.91      0.94      0.92        94\n",
      "weighted avg       0.94      0.93      0.93        94\n",
      "\n"
     ]
    },
    {
     "data": {
      "image/png": "[encoded data removed]",
      "text/plain": [
       "<Figure size 432x288 with 2 Axes>"
      ]
     },
     "metadata": {
      "needs_background": "light"
     },
     "output_type": "display_data"
    }
   ],
   "source": [
    "# assign dataset into predictors and target\n",
    "selectedcols = ['Flow_cfs']\n",
    "y = df['Flow?']\n",
    "x = df[selectedcols]\n",
    "\n",
    "# split x and y into training and testing sets\n",
    "from sklearn.model_selection import train_test_split\n",
    "X_train,X_test,y_train,y_test=train_test_split(x,y,test_size=0.25,random_state=0)\n",
    "\n",
    "# import the class\n",
    "from sklearn.linear_model import LogisticRegression\n",
    "\n",
    "# instantiate the model (using the default parameters)\n",
    "# logreg = LogisticRegression()\n",
    "logreg = LogisticRegression(solver='lbfgs', max_iter=10000)\n",
    "# fit the model with data  -TRAIN the model\n",
    "logreg.fit(X_train,y_train)\n",
    "\n",
    "y_pred=logreg.predict(X_test)\n",
    "\n",
    "# assess fitted results based on confusion matrix\n",
    "from sklearn import metrics\n",
    "cnf_matrix = metrics.confusion_matrix(y_pred, y_test)\n",
    "print(cnf_matrix)\n",
    "tpos = cnf_matrix[0][0]\n",
    "fneg = cnf_matrix[1][1]\n",
    "fpos = cnf_matrix[0][1]\n",
    "tneg = cnf_matrix[1][0]\n",
    "print(\"True Positive Cases are\",tpos) #How many non-fraud cases were identified as non-fraud cases - GOOD\n",
    "print(\"True Negative Cases are\",tneg) #How many Fraud cases were identified as Fraud cases - GOOD\n",
    "print(\"False Positive Cases are\",fpos) #How many Fraud cases were identified as non-fraud cases - BAD | (type 1 error)\n",
    "print(\"False Negative Cases are\",fneg) #How many non-fraud cases were identified as Fraud cases - BAD | (type 2 error)\n",
    "\n",
    "class_names=[0,1] # name  of classes\n",
    "fig, ax = plt.subplots()\n",
    "tick_marks = np.arange(len(class_names))\n",
    "plt.xticks(tick_marks, class_names)\n",
    "plt.yticks(tick_marks, class_names)\n",
    "\n",
    "# create heatmap\n",
    "import seaborn as sns\n",
    "sns.heatmap(pd.DataFrame(cnf_matrix), annot=True, cmap=\"YlGnBu\" ,fmt='g')\n",
    "ax.xaxis.set_label_position(\"top\")\n",
    "plt.tight_layout()\n",
    "plt.title('Confusion matrix', y=1.1)\n",
    "plt.ylabel('Predicted label')\n",
    "plt.xlabel('Actual label')\n",
    "\n",
    "print(\"Accuracy:\",metrics.accuracy_score(y_test, y_pred))\n",
    "print(\"Precision:\",metrics.precision_score(y_test, y_pred))\n",
    "print(\"Recall:\",metrics.recall_score(y_test, y_pred))\n",
    "print(\"F1-score:\",metrics.f1_score(y_test, y_pred))\n",
    "from sklearn.metrics import classification_report\n",
    "\n",
    "print(classification_report(y_test, y_pred))"
   ]
  },
  {
   "cell_type": "code",
   "execution_count": 64,
   "id": "505501f3",
   "metadata": {},
   "outputs": [
    {
     "name": "stdout",
     "output_type": "stream",
     "text": [
      "[[31  0]\n",
      " [ 2 61]]\n",
      "              precision    recall  f1-score   support\n",
      "\n",
      "           0       0.94      1.00      0.97        31\n",
      "           1       1.00      0.97      0.98        63\n",
      "\n",
      "    accuracy                           0.98        94\n",
      "   macro avg       0.97      0.98      0.98        94\n",
      "weighted avg       0.98      0.98      0.98        94\n",
      "\n"
     ]
    },
    {
     "data": {
      "text/plain": [
       "Text(0.5, 15.0, 'Actual label')"
      ]
     },
     "execution_count": 64,
     "metadata": {},
     "output_type": "execute_result"
    },
    {
     "data": {
      "image/png": "[encoded data removed]",
      "text/plain": [
       "<Figure size 432x288 with 2 Axes>"
      ]
     },
     "metadata": {
      "needs_background": "light"
     },
     "output_type": "display_data"
    }
   ],
   "source": [
    "# sklearn - K-Nearest Neighbors model\n",
    "\n",
    "# split data into predictors and target\n",
    "selectedcols = ['Flow_cfs']\n",
    "X = df[selectedcols]\n",
    "y = df['Flow?']\n",
    "\n",
    "# split data into training and testing with 25:85 split\n",
    "from sklearn.model_selection import train_test_split\n",
    "X_train, X_test, y_train, y_test = train_test_split(X, y, test_size=0.25)\n",
    "\n",
    "#import KNeighborsClassifier class \n",
    "from sklearn.neighbors import KNeighborsClassifier\n",
    "classifier = KNeighborsClassifier(n_neighbors=4)\n",
    "classifier.fit(X_train, y_train)\n",
    "\n",
    "# make predictions on test data\n",
    "y_pred = classifier.predict(X_test)\n",
    "\n",
    "# assess fitted results using confusion matrix\n",
    "from sklearn.metrics import classification_report, confusion_matrix\n",
    "print(confusion_matrix(y_test, y_pred))\n",
    "print(classification_report(y_test, y_pred))\n",
    "\n",
    "# apply to confusion matrix\n",
    "cm = pd.DataFrame(confusion_matrix(y_test, y_pred))\n",
    "sns.heatmap(cm, annot=True)\n",
    "plt.title('Confusion matrix', y=1.1)\n",
    "plt.ylabel('Predicted label')\n",
    "plt.xlabel('Actual label')"
   ]
  },
  {
   "cell_type": "code",
   "execution_count": 65,
   "id": "5cbc0a58",
   "metadata": {},
   "outputs": [
    {
     "data": {
      "image/png": "[encoded data removed]",
      "text/plain": [
       "<Figure size 864x432 with 1 Axes>"
      ]
     },
     "metadata": {
      "needs_background": "light"
     },
     "output_type": "display_data"
    }
   ],
   "source": [
    "# finding the best possible K-value \n",
    "\n",
    "error = []\n",
    "\n",
    "# Calculating error for K values between 1 and 50\n",
    "# In each iteration the mean error for predicted values of test set is calculated and\n",
    "# the result is appended to the error list.\n",
    "for i in range(1, 50):\n",
    "    knn = KNeighborsClassifier(n_neighbors=i)\n",
    "    knn.fit(X_train, y_train)\n",
    "    pred_i = knn.predict(X_test)\n",
    "    error.append(np.mean(pred_i != y_test))\n",
    "    \n",
    "# plot the error values against K values:\n",
    "plt.figure(figsize=(12, 6))\n",
    "plt.plot(range(1, 50), error, color='red', linestyle='dashed', marker='o',\n",
    "         markerfacecolor='blue', markersize=10)\n",
    "plt.title('Error Rate K Value')\n",
    "plt.xlabel('K Value')\n",
    "plt.ylabel('Mean Error')\n",
    "plt.minorticks_on()\n",
    "plt.grid(which='both')"
   ]
  },
  {
   "cell_type": "code",
   "execution_count": 69,
   "id": "7497afd3",
   "metadata": {},
   "outputs": [
    {
     "name": "stdout",
     "output_type": "stream",
     "text": [
      "Enter requested precipitation to test: 200\n",
      "Expected flowrate is:  246.72  cfs\n",
      "[1]\n"
     ]
    }
   ],
   "source": [
    "# Input data interface\n",
    "ppt = input(\"Enter requested precipitation to test: \")\n",
    "ppt = np.float64(ppt)\n",
    "flowrate = cubic(ppt, intercept, slope1, slope2, slope3)\n",
    "print(\"Expected flowrate is: \",\"{:.2f}\".format(flowrate), \" cfs\")\n",
    "print(classifier.predict([[flowrate]]))\n"
   ]
  },
  {
   "cell_type": "markdown",
   "id": "ade77e6e",
   "metadata": {},
   "source": [
    "#### - What are the most important assumptions in your modeling?\n",
    "- The most important assumption was to assume any flowrate meant that Flow was true, since the very existence of a flowrate would mean that the river is flowing.\n",
    "\n",
    "#### - Is it more difficult for the model to capture one flow state more than the other? If yes, which one? why?\n",
    "- It was not difficult for the KNN model to capture a flowstate more than the other since it used the flow value as a parameter.\n",
    "\n",
    "#### - Which parameter (between precipitation and temperature values) was be a better predictor for flow state at the station of study? why?\n",
    "- The best predictor for flow state was precipitation because it relied on the model created for Model 1 as a basis on flow state outcome, and since the flow state had the most correlation with precipitation, it worked better than temperature.\n",
    "\n",
    "#### - What can be some applications of this kind of streamflow state modeling?\n",
    "- The streamflow state modelling can be used for agriculture and public safety in order to determine how much water would affect the area of study. \n"
   ]
  }
 ],
 "metadata": {
  "kernelspec": {
   "display_name": "Python 3 (ipykernel)",
   "language": "python",
   "name": "python3"
  },
  "language_info": {
   "codemirror_mode": {
    "name": "ipython",
    "version": 3
   },
   "file_extension": ".py",
   "mimetype": "text/x-python",
   "name": "python",
   "nbconvert_exporter": "python",
   "pygments_lexer": "ipython3",
   "version": "3.9.7"
  }
 },
 "nbformat": 4,
 "nbformat_minor": 5
}
